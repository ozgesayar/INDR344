{
 "cells": [
  {
   "cell_type": "markdown",
   "metadata": {},
   "source": [
    "# Homework02: Random-Variate Generation"
   ]
  },
  {
   "cell_type": "markdown",
   "metadata": {},
   "source": [
    "# Özge Sayar"
   ]
  },
  {
   "cell_type": "code",
   "execution_count": 1,
   "metadata": {},
   "outputs": [],
   "source": [
    "import numpy as np\n",
    "import matplotlib.pyplot as plt"
   ]
  },
  {
   "cell_type": "markdown",
   "metadata": {},
   "source": [
    " **Question 1:** Given the following pdf for a continuous variable, develop a generator for the variable using inverse-transform technique, generate 10000 values, and plot a histogram.\n",
    "\n",
    "$$f(x) = \\begin{cases} e^{2x}, &\\quad -\\infty < x \\leq 0\\\\\n",
    "                       e^{-2x}, &\\quad 0< x < \\infty \\\\\n",
    "                       \\end{cases}$$"
   ]
  },
  {
   "cell_type": "code",
   "execution_count": 2,
   "metadata": {},
   "outputs": [
    {
     "name": "stdout",
     "output_type": "stream",
     "text": [
      "[-0.23278938  0.38690007 -0.25018255 -1.65006879 -0.39970512 -0.20169572\n",
      "  0.0823183  -0.00742772 -0.71823851 -0.38489251]\n"
     ]
    },
    {
     "data": {
      "image/png": "[encoded data removed]",
      "text/plain": [
       "<Figure size 432x288 with 1 Axes>"
      ]
     },
     "metadata": {
      "needs_background": "light"
     },
     "output_type": "display_data"
    }
   ],
   "source": [
    "def question1(N):\n",
    "    #### please write below this line\n",
    "    \n",
    "    #F(x)= {e^2x/2        -infinity<x<0\n",
    "    #      {e^-2x/-2 + 1  0<x<infinity\n",
    "    \n",
    "    #inverse:   {log(2R)/2            0<x<1/2\n",
    "    #           {log((R-1)*-2)/-2     1/2<x<1\n",
    "    \n",
    "    R = np.random.rand(N)\n",
    "    X = np.zeros(N)\n",
    "    \n",
    "    for i in range (N):\n",
    "        if R[i] > 0.5:\n",
    "            X[i] = np.log((-R[i]+1)*2)/-2\n",
    "        else:\n",
    "            X[i] = np.log(2*R[i])/2\n",
    "    \n",
    "    #### please write above this line\n",
    "\n",
    "    return(X)\n",
    "\n",
    "\n",
    "np.random.seed(seed = 344)\n",
    "X = question1(N = 10000)\n",
    "\n",
    "print(X[0:10])\n",
    "plt.hist(X)\n",
    "plt.show()"
   ]
  },
  {
   "cell_type": "markdown",
   "metadata": {},
   "source": [
    "**Question 2:** Given the following cdf for a continuous variable, develop a generator for the variable using inverse-transform technique, generate 10000 values, and plot a histogram.\n",
    "\n",
    "$$F(x) = \\begin{cases} 0, &\\quad x \\leq -3\\\\\n",
    "                       \\dfrac{1}{2} + \\dfrac{x}{6}, &\\quad -3< x \\leq 0\\\\\n",
    "                       \\dfrac{1}{2} + \\dfrac{x^{2}}{32}, &\\quad 0< x \\leq 4\\\\\n",
    "                       1, &\\quad x > 4\n",
    "                       \\end{cases}$$"
   ]
  },
  {
   "cell_type": "code",
   "execution_count": 19,
   "metadata": {},
   "outputs": [
    {
     "name": "stderr",
     "output_type": "stream",
     "text": [
      "C:\\Users\\HP\\Anaconda3\\lib\\site-packages\\ipykernel_launcher.py:16: RuntimeWarning: invalid value encountered in sqrt\n",
      "  app.launch_new_instance()\n"
     ]
    },
    {
     "name": "stdout",
     "output_type": "stream",
     "text": [
      "[-1.11668499  2.93596486 -1.18107224 -2.88936572 -1.65121789 -0.99584835\n",
      "  1.55845112         nan -2.28670824 -1.61066216]\n"
     ]
    },
    {
     "data": {
      "image/png": "[encoded data removed]",
      "text/plain": [
       "<Figure size 432x288 with 1 Axes>"
      ]
     },
     "metadata": {
      "needs_background": "light"
     },
     "output_type": "display_data"
    }
   ],
   "source": [
    "def question2(N):\n",
    "    #### please write below this line\n",
    "    \n",
    "    # Inverse function is: {0\n",
    "    #                      (R-1/2)*6\n",
    "    #                      (R-1/2)*32)^1/2\n",
    "    #                      1\n",
    "    \n",
    "    R = np.random.rand(N)\n",
    "    X = np.zeros(N)\n",
    "    \n",
    "    for i in range (N):\n",
    "        if R[i] < 3/7:\n",
    "            X[i] = (R[i]-0.5)*6\n",
    "        else:\n",
    "            X[i] = np.sqrt((R[i]-0.5)*32)\n",
    "\n",
    "    \n",
    "    #### please write above this line\n",
    "\n",
    "    return(X)\n",
    "\n",
    "np.random.seed(seed = 344)\n",
    "X = question2(N = 10000)\n",
    "\n",
    "print(X[0:10])\n",
    "plt.hist(X, bins = 14)\n",
    "plt.show()\n",
    "\n"
   ]
  },
  {
   "cell_type": "markdown",
   "metadata": {},
   "source": [
    "**Question 3:** The cdf of discrete random variable $X$ is given by\n",
    "\n",
    "$$F(x) = \\dfrac{x(x + 1)(2x + 1)}{n(n + 1)(2n + 1)}, \\quad x = 1, 2, \\dots, n.$$\n",
    "\n",
    "When $n = 10$, develop a generator for the variable using inverse-transform technique, generate 10000 values of $X$, and plot a histogram."
   ]
  },
  {
   "cell_type": "code",
   "execution_count": 7,
   "metadata": {},
   "outputs": [
    {
     "name": "stdout",
     "output_type": "stream",
     "text": [
      "[ 7 10  7  3  6  7  9  8  5  6]\n"
     ]
    },
    {
     "data": {
      "image/png": "[encoded data removed]",
      "text/plain": [
       "<Figure size 432x288 with 1 Axes>"
      ]
     },
     "metadata": {
      "needs_background": "light"
     },
     "output_type": "display_data"
    }
   ],
   "source": [
    "def question3(N):\n",
    "    #### please write below this line\n",
    "    \n",
    "    R = np.random.rand(N)\n",
    "    \n",
    "    #when x=1, F= 0.002597\n",
    "    #when x=2, F= 0.012987\n",
    "    #when x=3, F= 0.036363\n",
    "    #when x=4, F= 0.077922\n",
    "    #when x=5, F= 0.142857\n",
    "    #when x=6, F= 0.236363\n",
    "    #when x=7, F= 0.363636\n",
    "    #when x=8, F= 0.529870\n",
    "    #when x=9, F= 0.740259\n",
    "    #when x=10,F= 1\n",
    "\n",
    "    for i in range (N):\n",
    "        if R[i] < 0.002597:\n",
    "            X[i] = 1\n",
    "        if 0.002597 < R[i] < 0.012987:\n",
    "            X[i] = 2\n",
    "        if 0.012987 < R[i] < 0.036363:\n",
    "            X[i] = 3\n",
    "        if 0.036363 < R[i] < 0.077922:\n",
    "            X[i] = 4\n",
    "        if 0.077922 < R[i] < 0.142857:\n",
    "            X[i] = 5\n",
    "        if 0.142857 < R[i] < 0.236363:\n",
    "            X[i] = 6\n",
    "        if 0.236363 < R[i] < 0.363636:\n",
    "            X[i] = 7\n",
    "        if 0.363636 < R[i] < 0.529870:\n",
    "            X[i] = 8\n",
    "        if 0.529870 < R[i] < 0.740259:\n",
    "            X[i] = 9\n",
    "        if 0.740259 < R[i] < 1:\n",
    "            X[i] = 10\n",
    "\n",
    "    \n",
    "    \n",
    "    #### please write above this line\n",
    "\n",
    "    return(X)\n",
    "\n",
    "np.random.seed(seed = 344)\n",
    "X = question3(N = 10000)\n",
    "\n",
    "print(X[0:10])\n",
    "plt.hist(X, bins = np.arange(0.5, 10.5, 1))\n",
    "plt.show()"
   ]
  },
  {
   "cell_type": "markdown",
   "metadata": {},
   "source": [
    "**Question 4:** For a preliminary version of a simulation model, the number of pallets $X$ to be loaded onto a truck at a loading dock was assumed to be uniformly distributed between 8 and 24. Devise a method for generating $X$, assuming that the loads on successive trucks are independent.\n",
    "\n",
    "\n",
    "Develop a generator for the variable using inverse-transform technique, generate 10000 values of $X$, and plot a histogram."
   ]
  },
  {
   "cell_type": "code",
   "execution_count": 28,
   "metadata": {},
   "outputs": [
    {
     "name": "stdout",
     "output_type": "stream",
     "text": [
      "[13 21 13  8 11 13 17 16 10 11]\n"
     ]
    },
    {
     "data": {
      "image/png": "[encoded data removed]",
      "text/plain": [
       "<Figure size 432x288 with 1 Axes>"
      ]
     },
     "metadata": {
      "needs_background": "light"
     },
     "output_type": "display_data"
    }
   ],
   "source": [
    "def question4(N):\n",
    "    #### please write below this line\n",
    "    a=8\n",
    "    b=24\n",
    "    \n",
    "    R = np.random.rand(N)\n",
    "    X = (a + (b - a + 1) * R).astype(int)\n",
    "    \n",
    "    #### please write above this line\n",
    "\n",
    "    return(X)\n",
    "\n",
    "np.random.seed(seed = 344)\n",
    "X = question4(N = 10000)\n",
    "\n",
    "print(X[0:10])\n",
    "plt.hist(X, bins = np.arange(7.5, 25.5, 1))\n",
    "plt.show()"
   ]
  }
 ],
 "metadata": {
  "kernelspec": {
   "display_name": "Python 3",
   "language": "python",
   "name": "python3"
  },
  "language_info": {
   "codemirror_mode": {
    "name": "ipython",
    "version": 3
   },
   "file_extension": ".py",
   "mimetype": "text/x-python",
   "name": "python",
   "nbconvert_exporter": "python",
   "pygments_lexer": "ipython3",
   "version": "3.9.1"
  }
 },
 "nbformat": 4,
 "nbformat_minor": 2
}
