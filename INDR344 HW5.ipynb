{
 "cells": [
  {
   "cell_type": "markdown",
   "metadata": {},
   "source": [
    "# INDR344 HW05: Emergency Room"
   ]
  },
  {
   "cell_type": "markdown",
   "metadata": {},
   "source": [
    "# Özge Sayar"
   ]
  },
  {
   "cell_type": "code",
   "execution_count": 66,
   "metadata": {},
   "outputs": [],
   "source": [
    "import numpy as np\n",
    "import simpy as sp"
   ]
  },
  {
   "cell_type": "code",
   "execution_count": 67,
   "metadata": {},
   "outputs": [],
   "source": [
    "def generate_interarrival_time():\n",
    "    interarrival_time = np.random.randint(21,60)\n",
    "    return(interarrival_time)\n",
    "\n",
    "def generate_service_time_NIA_patient_3():\n",
    "    generate_service_time_NIA_patient_3 = np.random.randint(3,78)\n",
    "    return(generate_service_time_NIA_patient_3)\n",
    "\n",
    "def generate_service_time_NIA_patient_2():\n",
    "    generate_service_time_NIA_patient_2 = np.random.randint(5,56)\n",
    "    return(generate_service_time_NIA_patient_2)\n",
    "\n",
    "def generate_service_time_CW_patient_1():\n",
    "    generate_service_time_CW_patient_1 = np.random.randint(1,30)\n",
    "    return(generate_service_time_CW_patient_1)\n",
    "\n",
    "def generate_service_time_CW_patient_2():\n",
    "    generate_service_time_CW_patient_2 = np.random.randint(2,19)\n",
    "    return(generate_service_time_CW_patient_2)"
   ]
  },
  {
   "cell_type": "markdown",
   "metadata": {},
   "source": [
    "#### Simulation with 2 doctors"
   ]
  },
  {
   "cell_type": "code",
   "execution_count": 68,
   "metadata": {},
   "outputs": [
    {
     "name": "stdout",
     "output_type": "stream",
     "text": [
      "--------------------------------------------------------------------------------------------------------------\n",
      "Average time to first doctor for NIA patients 0.7973\n",
      "Average time to first doctor for CW patients 0.8014\n",
      "Average time to second doctor for NIA patients 43.2857\n",
      "Average time to second doctor for CW patients 15.8815\n",
      "Average time to discharge for NIA patients 74.4218\n",
      "Average time to discharge for CW patients 25.7805\n",
      "--------------------------------------------------------------------------------------------------------------\n",
      "Average doctor utilization 0.4358\n",
      "Average queue length 0.0317\n",
      "--------------------------------------------------------------------------------------------------------------\n"
     ]
    }
   ],
   "source": [
    "Total_time_to_first_doctor_NIA_patients = []\n",
    "Total_time_to_first_doctor_CW_patients = []\n",
    "Total_time_to_second_doctor_for_NIA_patients = []\n",
    "Total_time_to_second_doctor_for_CW_patients = []\n",
    "Total_time_to_discharge_for_NIA_patients = []\n",
    "Total_time_to_discharge_for_CW_patients = []\n",
    "Total_queue_length = []\n",
    "Time_spent_with_doctors = []\n",
    "Total_doctor_utilization = []\n",
    "\n",
    "def patient(env, doctor, d):\n",
    "    global Total_time_to_first_doctor_NIA_patients\n",
    "    global Total_time_to_first_doctor_CW_patients\n",
    "    global Total_time_to_second_doctor_for_NIA_patients\n",
    "    global Total_time_to_second_doctor_for_CW_patients\n",
    "    global Total_time_to_discharge_for_NIA_patients\n",
    "    global Total_time_to_discharge_for_CW_patients\n",
    "    global Total_doctor_utilization\n",
    "    global Total_queue_length\n",
    "    \n",
    "    NIA_patient = False\n",
    "    CW_patient = False\n",
    "    \n",
    "    Total_queue_length.append(len(doctor.queue))\n",
    "    \n",
    "    if np.random.rand() < 0.20:\n",
    "        NIA_patient = True \n",
    "    else:\n",
    "        CW_patient = True \n",
    "    \n",
    "    if NIA_patient:\n",
    "        patient_request = doctor.request(-2)\n",
    "    elif CW_patient:\n",
    "        patient_request = doctor.request(0)\n",
    "\n",
    "    patient_arrival_time = env.now\n",
    "    Total_queue_length.append(len(doctor.queue))\n",
    "\n",
    "    yield patient_request\n",
    "    patient_enter_time = env.now\n",
    "    Total_queue_length.append(len(doctor.queue))\n",
    "    \n",
    "    if NIA_patient:\n",
    "        Total_time_to_first_doctor_NIA_patients.append(patient_enter_time - patient_arrival_time) \n",
    "        service_time = generate_service_time_NIA_patient_3()\n",
    "    elif CW_patient:\n",
    "        Total_time_to_first_doctor_CW_patients.append(patient_enter_time - patient_arrival_time)\n",
    "        service_time = generate_service_time_CW_patient_1()\n",
    "    yield env.timeout(service_time)\n",
    "    first_doctor_exit_time = env.now\n",
    "    Time_spent_with_doctors.append(service_time) \n",
    "    \n",
    "    doctor.release(patient_request) \n",
    "    \n",
    "    Total_queue_length.append(len(doctor.queue))    \n",
    "    patient_request_again = doctor.request(-1)\n",
    "    \n",
    "    Total_queue_length.append(len(doctor.queue))\n",
    "    \n",
    "    yield(patient_request_again)\n",
    "    patient_enter_time_second = env.now\n",
    "    Total_queue_length.append(len(doctor.queue))\n",
    "    \n",
    "    if NIA_patient:\n",
    "        Total_time_to_second_doctor_for_NIA_patients.append(patient_enter_time_second - patient_arrival_time) \n",
    "        second_service_time = generate_service_time_NIA_patient_2()\n",
    "    elif CW_patient:\n",
    "        Total_time_to_second_doctor_for_CW_patients.append(patient_enter_time_second - patient_arrival_time)\n",
    "        second_service_time = generate_service_time_CW_patient_2()\n",
    "    \n",
    "    Total_queue_length.append(len(doctor.queue))\n",
    "    yield env.timeout(second_service_time)\n",
    "    Time_spent_with_doctors.append(second_service_time) \n",
    "\n",
    "    doctor.release(patient_request_again)\n",
    "    \n",
    "    patient_exit_time = env.now\n",
    "    Total_queue_length.append(len(doctor.queue))\n",
    "    \n",
    "    if NIA_patient:\n",
    "        Total_time_to_discharge_for_NIA_patients.append(patient_exit_time - patient_arrival_time) \n",
    "    elif CW_patient:\n",
    "        Total_time_to_discharge_for_CW_patients.append(patient_exit_time - patient_arrival_time)\n",
    "\n",
    "    Total_doctor_utilization = np.sum(Time_spent_with_doctors)/(24*60*20*d)\n",
    "    \n",
    "def start_collecting(env, time, doctor):\n",
    "    yield env.timeout(time)\n",
    "    Total_time_to_first_doctor_NIA_patients.clear() \n",
    "    Total_time_to_first_doctor_CW_patients.clear() \n",
    "    Total_time_to_second_doctor_for_NIA_patients.clear() \n",
    "    Total_time_to_second_doctor_for_CW_patients.clear() \n",
    "    Total_time_to_discharge_for_NIA_patients.clear() \n",
    "    Total_time_to_discharge_for_CW_patients.clear() \n",
    "    Time_spent_with_doctors.clear() \n",
    "    Total_queue_length.clear()\n",
    "    Total_queue_length.append(len(doctor.queue))\n",
    "\n",
    "def setup(env,d):\n",
    "    doctor = sp.PriorityResource(env, d)\n",
    "    env.process(start_collecting(env, 48*60, doctor))\n",
    "    \n",
    "    while True:\n",
    "        interarrival_time = generate_interarrival_time()\n",
    "        yield env.timeout(interarrival_time)\n",
    "        env.process(patient(env, doctor, d))\n",
    "    \n",
    "np.random.seed(344)\n",
    "env = sp.Environment()\n",
    "env.process(setup(env,2))\n",
    "env.run(until = 24*60*22)\n",
    "    \n",
    "\n",
    "print(\"--------------------------------------------------------------------------------------------------------------\")\n",
    "print(\"Average time to first doctor for NIA patients\", np.around(np.mean(Total_time_to_first_doctor_NIA_patients), decimals=4))\n",
    "print(\"Average time to first doctor for CW patients\", np.around(np.mean(Total_time_to_first_doctor_CW_patients), decimals=4))\n",
    "print(\"Average time to second doctor for NIA patients\", np.around(np.mean(Total_time_to_second_doctor_for_NIA_patients), decimals=4))\n",
    "print(\"Average time to second doctor for CW patients\", np.around(np.mean(Total_time_to_second_doctor_for_CW_patients), decimals=4))\n",
    "print(\"Average time to discharge for NIA patients\", np.around(np.mean(Total_time_to_discharge_for_NIA_patients), decimals=4))\n",
    "print(\"Average time to discharge for CW patients\", np.around(np.mean(Total_time_to_discharge_for_CW_patients), decimals=4))\n",
    "print(\"--------------------------------------------------------------------------------------------------------------\")\n",
    "print(\"Average doctor utilization\", np.around(Total_doctor_utilization, decimals=4))\n",
    "print(\"Average queue length\", np.around(np.mean(Total_queue_length), decimals = 4))\n",
    "print(\"--------------------------------------------------------------------------------------------------------------\")\n"
   ]
  },
  {
   "cell_type": "markdown",
   "metadata": {},
   "source": [
    "#### Simulation with 1 doctor "
   ]
  },
  {
   "cell_type": "code",
   "execution_count": 69,
   "metadata": {},
   "outputs": [
    {
     "name": "stdout",
     "output_type": "stream",
     "text": [
      "--------------------------------------------------------------------------------------------------------------\n",
      "Average time to first doctor for NIA patients 11.4558\n",
      "Average time to first doctor for CW patients 101.5439\n",
      "Average time to second doctor for NIA patients 80.449\n",
      "Average time to second doctor for CW patients 119.0771\n",
      "Average time to discharge for NIA patients 110.7211\n",
      "Average time to discharge for CW patients 128.7356\n",
      "--------------------------------------------------------------------------------------------------------------\n",
      "Average doctor utilization 0.8536\n",
      "Average queue length 2.3582\n",
      "--------------------------------------------------------------------------------------------------------------\n"
     ]
    }
   ],
   "source": [
    "np.random.seed(344)\n",
    "env = sp.Environment()\n",
    "env.process(setup(env,1))\n",
    "env.run(until = 24*60*22)\n",
    "    \n",
    "\n",
    "print(\"--------------------------------------------------------------------------------------------------------------\")\n",
    "print(\"Average time to first doctor for NIA patients\", np.around(np.mean(Total_time_to_first_doctor_NIA_patients), decimals=4))\n",
    "print(\"Average time to first doctor for CW patients\", np.around(np.mean(Total_time_to_first_doctor_CW_patients), decimals=4))\n",
    "print(\"Average time to second doctor for NIA patients\", np.around(np.mean(Total_time_to_second_doctor_for_NIA_patients), decimals=4))\n",
    "print(\"Average time to second doctor for CW patients\", np.around(np.mean(Total_time_to_second_doctor_for_CW_patients), decimals=4))\n",
    "print(\"Average time to discharge for NIA patients\", np.around(np.mean(Total_time_to_discharge_for_NIA_patients), decimals=4))\n",
    "print(\"Average time to discharge for CW patients\", np.around(np.mean(Total_time_to_discharge_for_CW_patients), decimals=4))\n",
    "print(\"--------------------------------------------------------------------------------------------------------------\")\n",
    "print(\"Average doctor utilization\", np.around(Total_doctor_utilization, decimals=4))\n",
    "print(\"Average queue length\", np.around(np.mean(Total_queue_length), decimals = 4))\n",
    "print(\"--------------------------------------------------------------------------------------------------------------\")"
   ]
  },
  {
   "cell_type": "markdown",
   "metadata": {},
   "source": [
    "#### Simulation with 3 doctors "
   ]
  },
  {
   "cell_type": "code",
   "execution_count": 70,
   "metadata": {},
   "outputs": [
    {
     "name": "stdout",
     "output_type": "stream",
     "text": [
      "--------------------------------------------------------------------------------------------------------------\n",
      "Average time to first doctor for NIA patients 0.0\n",
      "Average time to first doctor for CW patients 0.0087\n",
      "Average time to second doctor for NIA patients 42.651\n",
      "Average time to second doctor for CW patients 15.007\n",
      "Average time to discharge for NIA patients 74.8446\n",
      "Average time to discharge for CW patients 24.92\n",
      "--------------------------------------------------------------------------------------------------------------\n",
      "Average doctor utilization 0.2941\n",
      "Average queue length 0.0003\n",
      "--------------------------------------------------------------------------------------------------------------\n"
     ]
    }
   ],
   "source": [
    "np.random.seed(344)\n",
    "env = sp.Environment()\n",
    "env.process(setup(env,3))\n",
    "env.run(until = 24*60*22)\n",
    "    \n",
    "\n",
    "print(\"--------------------------------------------------------------------------------------------------------------\")\n",
    "print(\"Average time to first doctor for NIA patients\", np.around(np.mean(Total_time_to_first_doctor_NIA_patients), decimals=4))\n",
    "print(\"Average time to first doctor for CW patients\", np.around(np.mean(Total_time_to_first_doctor_CW_patients), decimals=4))\n",
    "print(\"Average time to second doctor for NIA patients\", np.around(np.mean(Total_time_to_second_doctor_for_NIA_patients), decimals=4))\n",
    "print(\"Average time to second doctor for CW patients\", np.around(np.mean(Total_time_to_second_doctor_for_CW_patients), decimals=4))\n",
    "print(\"Average time to discharge for NIA patients\", np.around(np.mean(Total_time_to_discharge_for_NIA_patients), decimals=4))\n",
    "print(\"Average time to discharge for CW patients\", np.around(np.mean(Total_time_to_discharge_for_CW_patients), decimals=4))\n",
    "print(\"--------------------------------------------------------------------------------------------------------------\")\n",
    "print(\"Average doctor utilization\", np.around(Total_doctor_utilization, decimals=4))\n",
    "print(\"Average queue length\", np.around(np.mean(Total_queue_length), decimals = 4))\n",
    "print(\"--------------------------------------------------------------------------------------------------------------\")"
   ]
  },
  {
   "cell_type": "code",
   "execution_count": null,
   "metadata": {},
   "outputs": [],
   "source": []
  }
 ],
 "metadata": {
  "kernelspec": {
   "display_name": "Python 3",
   "language": "python",
   "name": "python3"
  },
  "language_info": {
   "codemirror_mode": {
    "name": "ipython",
    "version": 3
   },
   "file_extension": ".py",
   "mimetype": "text/x-python",
   "name": "python",
   "nbconvert_exporter": "python",
   "pygments_lexer": "ipython3",
   "version": "3.9.1"
  }
 },
 "nbformat": 4,
 "nbformat_minor": 2
}
