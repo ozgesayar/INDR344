{
 "cells": [
  {
   "cell_type": "markdown",
   "metadata": {},
   "source": [
    "# Özge Sayar"
   ]
  },
  {
   "cell_type": "markdown",
   "metadata": {},
   "source": [
    "# INDR344 HW1"
   ]
  },
  {
   "cell_type": "code",
   "execution_count": 2,
   "metadata": {},
   "outputs": [],
   "source": [
    "import numpy as np\n",
    "from heapq import heappush\n",
    "from heapq import heappop"
   ]
  },
  {
   "cell_type": "code",
   "execution_count": 3,
   "metadata": {},
   "outputs": [],
   "source": [
    "#generating loading time\n",
    "def load_time():\n",
    "    loading = np.random.rand()\n",
    "    if loading < 0.30:\n",
    "        return(5)\n",
    "    if loading < 0.80:\n",
    "        return(10)\n",
    "    if loading < 1:\n",
    "        return(15)\n",
    "\n",
    "#generating Weighing time\n",
    "def weighing_time():\n",
    "    weighing = np.random.rand()\n",
    "    if weighing < 0.70:\n",
    "        return(12)\n",
    "    if weighing < 1:\n",
    "        return(16)\n",
    "    \n",
    "#generating travel time\n",
    "def travel_time():\n",
    "    travel = np.random.rand()\n",
    "    if travel < 0.40:\n",
    "        return(40)\n",
    "    if travel < 0.70:\n",
    "        return(60)\n",
    "    if travel < 0.90:\n",
    "        return(80)\n",
    "    if travel < 1:\n",
    "        return(100)\n",
    "\n",
    "\n",
    "def print_heap(heap):\n",
    "    if len(heap) == 0:\n",
    "        return(\"\")\n",
    "    else:\n",
    "        if heap[0][1] == \"E\":\n",
    "            heap_string = \"(\" + heap[0][1] + \", \" + str(heap[0][0]) + \")\"\n",
    "        else:\n",
    "            heap_string = \"(\" + heap[0][1] + \", \" + str(heap[0][0]) + \", \" + heap[0][2] + \")\"\n",
    "            for i in np.arange(1, len(heap)):\n",
    "                if heap[i][1] == \"E\":\n",
    "                    heap_string = heap_string + \" (\" + heap[i][1] + \", \" + str(heap[i][0]) + \")\"\n",
    "                else:\n",
    "                    heap_string = heap_string + \" (\" + heap[i][1] + \", \" + str(heap[i][0]) + \", \" + heap[i][2] + \")\"\n",
    "            return(heap_string)\n",
    "        \n"
   ]
  },
  {
   "cell_type": "code",
   "execution_count": 7,
   "metadata": {},
   "outputs": [
    {
     "name": "stdout",
     "output_type": "stream",
     "text": [
      "\n",
      "----------------------------------------------------------------------------------------------\n",
      "| CLOCK | LQ  | LS |  WQ  | WS |  Loader Queue  | Weigh Queue |  BL |  BS |\n",
      "----------------------------------------------------------------------------------------------\n"
     ]
    },
    {
     "ename": "ValueError",
     "evalue": "not enough values to unpack (expected 3, got 2)",
     "output_type": "error",
     "traceback": [
      "\u001b[1;31m---------------------------------------------------------------------------\u001b[0m",
      "\u001b[1;31mValueError\u001b[0m                                Traceback (most recent call last)",
      "\u001b[1;32m<ipython-input-7-b1ea9f50d2e8>\u001b[0m in \u001b[0;36m<module>\u001b[1;34m\u001b[0m\n\u001b[0;32m     50\u001b[0m \u001b[0mWeigh_Queue\u001b[0m \u001b[1;33m=\u001b[0m \u001b[1;33m(\u001b[0m\u001b[1;34m\"0\"\u001b[0m\u001b[1;33m)\u001b[0m\u001b[1;33m\u001b[0m\u001b[1;33m\u001b[0m\u001b[0m\n\u001b[0;32m     51\u001b[0m \u001b[1;32mwhile\u001b[0m \u001b[0mlen\u001b[0m\u001b[1;33m(\u001b[0m\u001b[0mFEL\u001b[0m\u001b[1;33m)\u001b[0m \u001b[1;33m>\u001b[0m \u001b[1;36m0\u001b[0m\u001b[1;33m:\u001b[0m\u001b[1;33m\u001b[0m\u001b[1;33m\u001b[0m\u001b[0m\n\u001b[1;32m---> 52\u001b[1;33m     \u001b[1;33m(\u001b[0m\u001b[0mevent_time\u001b[0m\u001b[1;33m,\u001b[0m \u001b[0mevent_type\u001b[0m\u001b[1;33m,\u001b[0m \u001b[0mevent_truck\u001b[0m\u001b[1;33m)\u001b[0m \u001b[1;33m=\u001b[0m \u001b[0mheappop\u001b[0m\u001b[1;33m(\u001b[0m\u001b[0mFEL\u001b[0m\u001b[1;33m)\u001b[0m\u001b[1;33m\u001b[0m\u001b[1;33m\u001b[0m\u001b[0m\n\u001b[0m\u001b[0;32m     53\u001b[0m     \u001b[0mFEL\u001b[0m\u001b[1;33m.\u001b[0m\u001b[0msort\u001b[0m\u001b[1;33m(\u001b[0m\u001b[1;33m)\u001b[0m\u001b[1;33m\u001b[0m\u001b[1;33m\u001b[0m\u001b[0m\n\u001b[0;32m     54\u001b[0m     \u001b[1;31m#print(row(CLOCK, LQ, LS,  WQ, WS,  Loader_Queue, Weigh_Queue, BL, BS))\u001b[0m\u001b[1;33m\u001b[0m\u001b[1;33m\u001b[0m\u001b[1;33m\u001b[0m\u001b[0m\n",
      "\u001b[1;31mValueError\u001b[0m: not enough values to unpack (expected 3, got 2)"
     ]
    }
   ],
   "source": [
    "np.random.seed(344)\n",
    "\n",
    "CLOCK = 0\n",
    "\n",
    "#system state\n",
    "LQ = 3 #the number of trucks in loader queue at simulation time 0.\n",
    "LS = 2 #the number of trucks (0, 1, or 2) being loaded at simulation time 0.\n",
    "WQ = 0 #the number of trucks in weigh queue at simulation time 0.\n",
    "WS = 1 #the number of trucks (0 or 1) being weighed at simulation time 0.\n",
    "\n",
    "#future event list\n",
    "FEL = [] #(ALQ, t, DTi), DTi arrives at loader queue (ALQ) at time t, (EL, t, DTi), DTi ends loading (EL) at time t, (EW, t, DTi), DTi ends weighing (EW) at time t.\n",
    "\n",
    "# entities\n",
    "DumpTrucks = {\"DT1\": 0}\n",
    "DT1 = []\n",
    "DT2 = []\n",
    "DT3 = []\n",
    "DT4 = []\n",
    "DT5 = []\n",
    "DT6 = []\n",
    "DT = np.array([DT1, DT2, DT3, DT4, DT5, DT6])\n",
    "\n",
    "BL = 0 #total busy time of both loaders from time 0 to time t\n",
    "BS = 0 #total busy time of the scale from time 0 to time t.\n",
    "\n",
    "#generate first dump track's departure from weighing \n",
    "weighing = weighing_time()\n",
    "heappush(FEL, (CLOCK + weighing, \"EW\", \"DT1\"))\n",
    "\n",
    "#generate second dump track's departure from loading \n",
    "loading = load_time()\n",
    "heappush(FEL, (CLOCK + loading, \"EL\", \"DT2\"))\n",
    "\n",
    "#generate third dump track's departure from loading \n",
    "loading = load_time()\n",
    "heappush(FEL, (CLOCK + loading, \"EL\", \"DT3\"))\n",
    "\n",
    "#generate end simulation event\n",
    "heappush(FEL, (CLOCK + 480, \"E\", \"\"))\n",
    "\n",
    "\n",
    "row = \"| {:>5d} | {:>3d} | {:>2d} | {:<4d} | {:>2d} | {:>14d} | {:>11d} | {:>3d} | {:>3d} |\".format\n",
    "print()\n",
    "print(\"----------------------------------------------------------------------------------------------\")\n",
    "print(\"| CLOCK | LQ  | LS |  WQ  | WS |  Loader Queue  | Weigh Queue |  BL |  BS |\")\n",
    "print(\"----------------------------------------------------------------------------------------------\")\n",
    "\n",
    "Loader_Queue = (\"DT4\")\n",
    "Weigh_Queue = (\"0\")\n",
    "while len(FEL) > 0:\n",
    "    (event_time, event_type, event_truck) = heappop(FEL)\n",
    "    FEL.sort()\n",
    "    #print(row(CLOCK, LQ, LS,  WQ, WS,  Loader_Queue, Weigh_Queue, BL, BS))\n",
    "    CLOCK = event_time\n",
    "    if event_type == \"ALQ\": #arrival event\n",
    "        if LS == 2:\n",
    "            LQ = LQ + 1\n",
    "        else:\n",
    "            LS = LS + 1 \n",
    "            loading = load_time()\n",
    "            heappush(FEL, (CLOCK + loading, \"EL\"))\n",
    "            BL = BL + loading\n",
    "    if event_type == \"EL\": #departure event from loading\n",
    "        if WS == 1:\n",
    "            WQ = WQ + 1\n",
    "        else:\n",
    "            WS = 1\n",
    "            weighing = weighing_time()\n",
    "            heappush(FEL, (CLOCK + weighing, \"EW\"))\n",
    "            BS = BS + weighing\n",
    "    if event_type == \"EW\": #departure event from weighing\n",
    "        travel = travel_time() \n",
    "        heappush(FEL, (CLOCK + travel, \"ALQ\"))\n",
    "    if event_type == \"E\": #end simulation event\n",
    "        print(row(CLOCK, LQ, LS,  WQ, WS,  Loader_Queue, Weigh_Queue, BL, BS))\n",
    "        break\n",
    "print(\"-------------------------------------------------------\")"
   ]
  },
  {
   "cell_type": "code",
   "execution_count": null,
   "metadata": {},
   "outputs": [],
   "source": []
  }
 ],
 "metadata": {
  "kernelspec": {
   "display_name": "Python 3",
   "language": "python",
   "name": "python3"
  },
  "language_info": {
   "codemirror_mode": {
    "name": "ipython",
    "version": 3
   },
   "file_extension": ".py",
   "mimetype": "text/x-python",
   "name": "python",
   "nbconvert_exporter": "python",
   "pygments_lexer": "ipython3",
   "version": "3.7.4"
  }
 },
 "nbformat": 4,
 "nbformat_minor": 2
}
