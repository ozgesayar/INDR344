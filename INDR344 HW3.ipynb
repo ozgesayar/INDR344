{
 "cells": [
  {
   "cell_type": "markdown",
   "metadata": {},
   "source": [
    "# Homework03: Input Modeling  "
   ]
  },
  {
   "cell_type": "markdown",
   "metadata": {},
   "source": [
    "# ÖZGE SAYAR"
   ]
  },
  {
   "cell_type": "code",
   "execution_count": 7,
   "metadata": {},
   "outputs": [],
   "source": [
    "import numpy as np\n",
    "import scipy.stats as stats\n",
    "\n",
    "import matplotlib.pyplot as plt"
   ]
  },
  {
   "cell_type": "markdown",
   "metadata": {},
   "source": [
    "**Question 1:** Implement a q-q plot for exponential distribution."
   ]
  },
  {
   "cell_type": "code",
   "execution_count": 15,
   "metadata": {},
   "outputs": [
    {
     "data": {
      "image/png": "[encoded data removed]",
      "text/plain": [
       "<Figure size 576x432 with 1 Axes>"
      ]
     },
     "metadata": {
      "needs_background": "light"
     },
     "output_type": "display_data"
    },
    {
     "data": {
      "image/png": "[encoded data removed]",
      "text/plain": [
       "<Figure size 576x432 with 1 Axes>"
      ]
     },
     "metadata": {
      "needs_background": "light"
     },
     "output_type": "display_data"
    }
   ],
   "source": [
    "#Q-Q Plot for Exponential Distribution\n",
    "def exponential_qq_plot(X):\n",
    "    #### please write below this line\n",
    "    \n",
    "    N = len(X)\n",
    "    j = np.arange(1, N + 1, 1)\n",
    "    Value = np.sort(X)\n",
    "    Z = (j - 0.5) / N\n",
    "    Finv = stats.expon.ppf(Z, scale= np.mean(X))\n",
    "    \n",
    "    plt.figure(figsize=(8, 6))\n",
    "    plt.plot([0,max(np.max(Value),np.max(Finv))],\n",
    "         [0,max(np.max(Value),np.max(Finv))], \"r-\")\n",
    "    plt.plot(Value, Finv, \"b.\")\n",
    "    plt.gca().set_aspect(\"equal\")\n",
    "    plt.show()\n",
    "    \n",
    "    #### please write above this line\n",
    "    \n",
    "np.random.seed(344)\n",
    "X = np.random.exponential(scale = 10, size = 100)\n",
    "exponential_qq_plot(X)\n",
    "\n",
    "np.random.seed(344)\n",
    "X = np.random.normal(loc = 40, scale = 10, size = 100)\n",
    "exponential_qq_plot(X)"
   ]
  },
  {
   "cell_type": "markdown",
   "metadata": {},
   "source": [
    "**Question 2:** Implement a chi-square test for normal distribution."
   ]
  },
  {
   "cell_type": "code",
   "execution_count": 9,
   "metadata": {},
   "outputs": [
    {
     "name": "stdout",
     "output_type": "stream",
     "text": [
      "Test statistic is 5.4\n",
      "Critical value is 14.067140449340169\n",
      "Fail to reject H0.\n",
      "Test statistic is 27.6\n",
      "Critical value is 14.067140449340169\n",
      "Reject H0.\n"
     ]
    }
   ],
   "source": [
    "#Chi-Square Test for Normal Distribution\n",
    "def normality_test_using_chi_square(X, interval_count, alpha):\n",
    "    #### please write above this line\n",
    "    \n",
    "    sample_mean = np.mean(X)\n",
    "    sample_deviation = np.std(X, ddof = 1)\n",
    "    N = len(X)\n",
    "\n",
    "    left_border = np.zeros(interval_count)\n",
    "    right_border = np.zeros(interval_count)\n",
    "    O = np.zeros(interval_count)\n",
    "    E = np.ones(interval_count) * N / interval_count\n",
    "    \n",
    "    for i in range(interval_count):\n",
    "        left_border[i] = stats.norm.ppf(i/ interval_count, loc = sample_mean, scale = sample_deviation)\n",
    "        right_border[i] = stats.norm.ppf((i + 1) / interval_count, loc = sample_mean, scale = sample_deviation)\n",
    "        O[i] = np.sum((left_border[i] <= X) & (X < right_border[i]))\n",
    "    chi_square = np.sum((O - E)**2 / E)\n",
    "    critical_value = stats.chi2.ppf(1-alpha, df = interval_count - 2 - 1)\n",
    "    \n",
    "    #### please write below this line\n",
    "    return(chi_square, critical_value)\n",
    "\n",
    "np.random.seed(344)\n",
    "X = np.random.normal(loc = 240, scale = 10, size = 100)\n",
    "interval_count = 10\n",
    "alpha = 0.05\n",
    "chi_square, critical_value = normality_test_using_chi_square(X, interval_count, alpha)\n",
    "print(\"Test statistic is {}\".format(chi_square))\n",
    "print(\"Critical value is {}\".format(critical_value))\n",
    "if chi_square <= critical_value:\n",
    "    print(\"Fail to reject H0.\")\n",
    "else:\n",
    "    print(\"Reject H0.\")\n",
    "    \n",
    "np.random.seed(344)\n",
    "X = np.random.uniform(low = 210, high = 270, size = 100)\n",
    "interval_count = 10\n",
    "alpha = 0.05\n",
    "chi_square, critical_value = normality_test_using_chi_square(X, interval_count, alpha)\n",
    "print(\"Test statistic is {}\".format(chi_square))\n",
    "print(\"Critical value is {}\".format(critical_value))\n",
    "if chi_square <= critical_value:\n",
    "    print(\"Fail to reject H0.\")\n",
    "else:\n",
    "    print(\"Reject H0.\")"
   ]
  }
 ],
 "metadata": {
  "kernelspec": {
   "display_name": "Python 3",
   "language": "python",
   "name": "python3"
  },
  "language_info": {
   "codemirror_mode": {
    "name": "ipython",
    "version": 3
   },
   "file_extension": ".py",
   "mimetype": "text/x-python",
   "name": "python",
   "nbconvert_exporter": "python",
   "pygments_lexer": "ipython3",
   "version": "3.7.4"
  }
 },
 "nbformat": 4,
 "nbformat_minor": 2
}
